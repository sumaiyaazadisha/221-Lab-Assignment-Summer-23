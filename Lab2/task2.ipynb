{
  "nbformat": 4,
  "nbformat_minor": 0,
  "metadata": {
    "colab": {
      "provenance": []
    },
    "kernelspec": {
      "name": "python3",
      "display_name": "Python 3"
    },
    "language_info": {
      "name": "python"
    }
  },
  "cells": [
    {
      "cell_type": "code",
      "source": [
        "#(1)---> complexity O(nlogn)\n",
        "\n",
        "input_file = open('/content/input2.txt', 'r')\n",
        "output_file = open('/content/output2.txt','w')\n",
        "N1 = int(input_file.readline().strip())\n",
        "l1 = input_file.readline().strip().split(\" \")\n",
        "new_list = []\n",
        "List1 = []\n",
        "for i in l1:\n",
        "  List1.append(int(i))\n",
        "  new_list.append(int(i))\n",
        "\n",
        "N2 = int(input_file.readline().strip())\n",
        "l2 = input_file.readline().strip().split(\" \")\n",
        "List2 = []\n",
        "for j in l2:\n",
        "  List2.append(int(j))\n",
        "  new_list.append(int(j))\n",
        "\n",
        "\n",
        "new_list.sort()\n",
        "print(new_list, file=output_file)\n",
        "output_file.close()\n",
        "\n"
      ],
      "metadata": {
        "id": "4xaA-N6EH6ia"
      },
      "execution_count": null,
      "outputs": []
    },
    {
      "cell_type": "code",
      "source": [
        "#(2)----> complexity O(n)\n",
        "\n",
        "input_file = open('/content/input2.txt', 'r')\n",
        "output_file = open('/content/output2.txt','w')\n",
        "N1 = int(input_file.readline().strip())\n",
        "l1 = input_file.readline().strip().split(\" \")\n",
        "List1 = []\n",
        "for i in l1:\n",
        "  List1.append(int(i))\n",
        "\n",
        "N2 = int(input_file.readline().strip())\n",
        "l2 = input_file.readline().strip().split(\" \")\n",
        "List2 = []\n",
        "for j in l2:\n",
        "  List2.append(int(j))\n",
        "\n",
        "new_list = []\n",
        "i = 0\n",
        "j = 0\n",
        "while (i < N1 and j < N2):\n",
        "  if List1[i] <= List2[j]:\n",
        "    new_list.append(List1[i])\n",
        "    i+=1\n",
        "  else:\n",
        "    new_list.append(List2[j])\n",
        "    j+=1\n",
        "\n",
        "  if i == N1:\n",
        "    while(j < N2):\n",
        "      new_list.append(List2[j])\n",
        "      j+=1\n",
        "  if j == N2:\n",
        "    while(i < N1):\n",
        "      new_list.append(List1[i])\n",
        "      i+=1\n",
        "\n",
        "\n",
        "print(new_list, file=output_file)\n",
        "output_file.close()\n",
        "\n"
      ],
      "metadata": {
        "id": "TDEC3dwSH12m"
      },
      "execution_count": null,
      "outputs": []
    },
    {
      "cell_type": "code",
      "source": [],
      "metadata": {
        "id": "H1GSPI12H3YQ"
      },
      "execution_count": null,
      "outputs": []
    }
  ]
}