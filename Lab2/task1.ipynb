{
  "nbformat": 4,
  "nbformat_minor": 0,
  "metadata": {
    "colab": {
      "provenance": []
    },
    "kernelspec": {
      "name": "python3",
      "display_name": "Python 3"
    },
    "language_info": {
      "name": "python"
    }
  },
  "cells": [
    {
      "cell_type": "code",
      "execution_count": null,
      "metadata": {
        "id": "zB42JUqZ-lKQ"
      },
      "outputs": [],
      "source": [
        "#(1)---> complexity O(n^2)\n",
        "\n",
        "input = open('/content/input1.txt','r')\n",
        "output_file = open('/content/output1.txt','w')\n",
        "target = input.readline().strip().split(\" \")\n",
        "target_list = []\n",
        "for val in target:\n",
        "  target_list.append(int(val))\n",
        "\n",
        "number = input.readline().strip().split(\" \")\n",
        "number_list = []\n",
        "for vals in number:\n",
        "  number_list.append(int(vals))\n",
        "\n",
        "\n",
        "solution = []\n",
        "for i in range(0, target_list[0]+1):\n",
        "  for j in range(i+1, target_list[0]):\n",
        "    if number_list[i] + number_list[j] == target_list[1]:\n",
        "      solution.append(i+1)\n",
        "      solution.append(j+1)\n",
        "      print(solution, file=output_file)\n",
        "  break\n",
        "\n",
        "if len(solution) == 0:\n",
        "  print(\"IMPOSSIBLE\", file=output_file)\n",
        "\n",
        "\n",
        "output_file.close()\n"
      ]
    },
    {
      "cell_type": "code",
      "source": [
        "#(2)---> complexity O(n)\n",
        "\n",
        "input = open('/content/input1.txt','r')\n",
        "output_file = open('/content/output1.txt','w')\n",
        "target = input.readline().strip().split(\" \")\n",
        "target_list = []\n",
        "for val in target:\n",
        "  target_list.append(int(val))\n",
        "\n",
        "number = input.readline().strip().split(\" \")\n",
        "number_list = []\n",
        "for vals in number:\n",
        "  number_list.append(int(vals))\n",
        "\n",
        "solution = []\n",
        "l = 0\n",
        "r = len(number_list)-1\n",
        "while (l < r):\n",
        "  if number_list[l] + number_list[r] == target_list[1]:\n",
        "    solution.append(l+1)\n",
        "    solution.append(r+1)\n",
        "    print(solution, file=output_file)\n",
        "    break\n",
        "  elif number_list[l] + number_list[r] < target_list[1]:\n",
        "    l+=1\n",
        "  else:\n",
        "    r-=1\n",
        "\n",
        "if len(solution) == 0:\n",
        "  print(\"IMPOSSIBLE\", file=output_file)\n",
        "\n",
        "output_file.close()"
      ],
      "metadata": {
        "id": "hFZwlPGsE1nC"
      },
      "execution_count": null,
      "outputs": []
    }
  ]
}