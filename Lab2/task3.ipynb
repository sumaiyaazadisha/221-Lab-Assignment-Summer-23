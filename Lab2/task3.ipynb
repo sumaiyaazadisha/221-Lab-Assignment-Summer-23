{
  "nbformat": 4,
  "nbformat_minor": 0,
  "metadata": {
    "colab": {
      "provenance": []
    },
    "kernelspec": {
      "name": "python3",
      "display_name": "Python 3"
    },
    "language_info": {
      "name": "python"
    }
  },
  "cells": [
    {
      "cell_type": "code",
      "source": [
        "input_file = open('/content/input3.txt', 'r')\n",
        "output_file = open('/content/output3.txt', 'w')\n",
        "N = int(input_file.readline().strip())\n",
        "l1 = input_file.readline().strip().split(\" \")\n",
        "array=[]\n",
        "for ele in l1:\n",
        "  array.append(int(ele))\n",
        "\n",
        "def mergeSort(list1):\n",
        "    if len(list1) > 1:\n",
        "        mid = len(list1)//2\n",
        "        left_part = list1[:mid]\n",
        "        right_part = list1[mid:]\n",
        "\n",
        "        mergeSort(left_part)\n",
        "        mergeSort(right_part)\n",
        "\n",
        "        i = 0\n",
        "        j = 0\n",
        "        index = 0\n",
        "\n",
        "        while i < len(left_part) and j < len(right_part):\n",
        "            if left_part[i] <= right_part[j]:\n",
        "                list1[index] = left_part[i]\n",
        "                i += 1\n",
        "            else:\n",
        "                list1[index] = right_part[j]\n",
        "                j += 1\n",
        "            index += 1\n",
        "\n",
        "        while i < len(left_part):\n",
        "            list1[index] = left_part[i]\n",
        "            i += 1\n",
        "            index += 1\n",
        "\n",
        "        while j < len(right_part):\n",
        "            list1[index] = right_part[j]\n",
        "            j += 1\n",
        "            index += 1\n",
        "    return list1\n",
        "\n",
        "print(mergeSort(array), file=output_file)\n",
        "output_file.close()"
      ],
      "metadata": {
        "id": "AA98qkqrPQPZ"
      },
      "execution_count": 5,
      "outputs": []
    }
  ]
}