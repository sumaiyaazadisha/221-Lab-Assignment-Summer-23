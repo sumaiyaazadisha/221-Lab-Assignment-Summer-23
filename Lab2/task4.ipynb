{
  "nbformat": 4,
  "nbformat_minor": 0,
  "metadata": {
    "colab": {
      "provenance": []
    },
    "kernelspec": {
      "name": "python3",
      "display_name": "Python 3"
    },
    "language_info": {
      "name": "python"
    }
  },
  "cells": [
    {
      "cell_type": "code",
      "source": [
        "input_file = open('/content/input4.txt', 'r')\n",
        "output_file = open('/content/output4.txt','w')\n",
        "N = int(input_file.readline().strip())\n",
        "l1 = input_file.readline().strip().split(\" \")\n",
        "array = []\n",
        "for ele in l1:\n",
        "  array.append(int(ele))\n",
        "\n",
        "\n",
        "def maximum(list1, l, r):\n",
        "    if l == r:\n",
        "        return list1[l]\n",
        "    mid = (l + r) // 2\n",
        "    left_max = maximum(list1, l, mid)\n",
        "    right_max = maximum(list1, mid + 1, r)\n",
        "    return max(left_max, right_max)\n",
        "\n",
        "\n",
        "print(maximum(array, 0, N-1), file=output_file)\n",
        "output_file.close()"
      ],
      "metadata": {
        "id": "AA98qkqrPQPZ"
      },
      "execution_count": 4,
      "outputs": []
    }
  ]
}